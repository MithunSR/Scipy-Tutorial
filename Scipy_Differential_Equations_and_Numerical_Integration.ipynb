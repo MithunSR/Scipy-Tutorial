{
  "nbformat": 4,
  "nbformat_minor": 0,
  "metadata": {
    "colab": {
      "provenance": [],
      "authorship_tag": "ABX9TyMj9PMSS5YCaBn4OA7ccYP8",
      "include_colab_link": true
    },
    "kernelspec": {
      "name": "python3",
      "display_name": "Python 3"
    },
    "language_info": {
      "name": "python"
    }
  },
  "cells": [
    {
      "cell_type": "markdown",
      "metadata": {
        "id": "view-in-github",
        "colab_type": "text"
      },
      "source": [
        "<a href=\"https://colab.research.google.com/github/MithunSR/Scipy-Tutorial/blob/main/Scipy_Differential_Equations_and_Numerical_Integration.ipynb\" target=\"_parent\"><img src=\"https://colab.research.google.com/assets/colab-badge.svg\" alt=\"Open In Colab\"/></a>"
      ]
    },
    {
      "cell_type": "markdown",
      "source": [
        "#Introduction\n",
        "This notebook the usage of Scipy for solving ordinary differential equations (ODEs) numerically and performing numerical integration. Scipy provides a variety of functions and algorithms for solving ODEs and integrating differential equations.\n",
        "\n",
        "**ODE Systems and Solvers:**\n",
        "\n",
        "In the ODE systems and solvers section, we demonstrate how to define a system of ODEs using the odeint() function from scipy.integrate. We define a simple ODE system consisting of two equations, and the odeint() function is used to numerically solve the system over a given time interval. The result includes the solution for each equation at different time points.\n",
        "\n",
        "**Initial Value Problems:**\n",
        "\n",
        "The initial value problems section focuses on solving ODEs with initial conditions. We define a second-order ODE and its initial conditions. The solve_ivp() function from scipy.integrate is used to solve the initial value problem numerically. The result includes the solution for the ODE over the specified time interval.\n",
        "\n",
        "**Boundary Value Problems:**\n",
        "\n",
        "The boundary value problems section demonstrates the solution of ODEs with boundary conditions. We define a second-order ODE with boundary conditions at both ends of the interval. The solve_bvp() function from scipy.integrate is employed to solve the boundary value problem numerically. The result includes the solution for the ODE over the specified interval.\n",
        "\n",
        "Scipy's capabilities in solving ODEs numerically and performing numerical integration make it a powerful tool for modeling and simulating dynamic systems. The ability to handle both initial value problems and boundary value problems allows for a wide range of applications, from simulating physical systems to analyzing biological processes."
      ],
      "metadata": {
        "id": "u6_4yj3I7pKA"
      }
    },
    {
      "cell_type": "markdown",
      "source": [
        "#code with example\n",
        "We import the necessary libraries: numpy for numerical computations and solve_bvp from scipy.integrate for solving boundary value problems.\n",
        "\n",
        "We define the function second_order_ode_bc that represents the second-order ordinary differential equation (ODE) and its boundary conditions. In this example, the ODE is y'' = y' and z'' = -z. The function takes two arguments, x and y, where x is the independent variable (grid points) and y is an array of dependent variables.\n",
        "\n",
        "The boundary_conditions function specifies the boundary conditions for the problem. In this example, we set y(0) = 0 and y(1) = 1. The function takes the values of the dependent variables at the boundaries (ya and yb) and returns an array of conditions.\n",
        "\n",
        "We define grid_points as an array of values that define the domain of the problem. Here, we use np.linspace to create 10 equally spaced points between 0 and 1.\n",
        "\n",
        "We initialize initial_guess as an array of zeros with a shape of (2, grid_points.size). This represents the initial guess for the solution.\n",
        "\n",
        "Using the solve_bvp function, we pass the second_order_ode_bc, boundary_conditions, grid_points, and initial_guess to solve the boundary value problem numerically.\n",
        "\n",
        "The solution is stored in solution_bvp, which contains the solution to the ODE at each point in the grid_points.\n",
        "\n",
        "Finally, we print the solution by accessing solution_bvp.y, which provides the values of the dependent variables at each point in the grid."
      ],
      "metadata": {
        "id": "r0kdeiDQ84zK"
      }
    },
    {
      "cell_type": "code",
      "source": [
        "import numpy as np\n",
        "from scipy.integrate import solve_bvp\n",
        "\n",
        "# Boundary Value Problems\n",
        "\n",
        "# Define the second-order ODE and boundary conditions\n",
        "def second_order_ode_bc(x, y):\n",
        "    dydx = y[1]  # Example ODE: y'' = y'\n",
        "    dzdx = -y[0]  # Example ODE: z'' = -z\n",
        "    return np.array([dydx, dzdx])\n",
        "\n",
        "def boundary_conditions(ya, yb):\n",
        "    return np.array([ya[0] - 0, yb[0] - 1])  # Example boundary conditions: y(0) = 0, y(1) = 1\n",
        "\n",
        "grid_points = np.linspace(0, 1, 10)\n",
        "\n",
        "# Reshape the initial guess\n",
        "initial_guess = np.zeros((2, grid_points.size))\n",
        "\n",
        "# Solve the boundary value problem using solve_bvp\n",
        "solution_bvp = solve_bvp(second_order_ode_bc, boundary_conditions, grid_points, initial_guess)\n",
        "\n",
        "# Print the solution\n",
        "print(\"\\nBoundary Value Problem Solution:\")\n",
        "print(solution_bvp.y)\n"
      ],
      "metadata": {
        "colab": {
          "base_uri": "https://localhost:8080/"
        },
        "id": "lHttRfTk8nAl",
        "outputId": "cab0f112-6542-4f1e-ed04-50cd8b0d6fdd"
      },
      "execution_count": 4,
      "outputs": [
        {
          "output_type": "stream",
          "name": "stdout",
          "text": [
            "\n",
            "Boundary Value Problem Solution:\n",
            "[[0.         0.13177236 0.26191958 0.38883655 0.51095801 0.62677783\n",
            "  0.73486762 0.8338943  0.92263658 1.        ]\n",
            " [1.18839527 1.18106704 1.15917274 1.12298239 1.07294232 1.00966968\n",
            "  0.9339448  0.84670161 0.74901606 0.64209291]]\n"
          ]
        }
      ]
    }
  ]
}