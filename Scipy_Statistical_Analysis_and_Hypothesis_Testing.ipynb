{
  "nbformat": 4,
  "nbformat_minor": 0,
  "metadata": {
    "colab": {
      "provenance": [],
      "authorship_tag": "ABX9TyNFWNuJLp3Sgh2H33X50/1v",
      "include_colab_link": true
    },
    "kernelspec": {
      "name": "python3",
      "display_name": "Python 3"
    },
    "language_info": {
      "name": "python"
    }
  },
  "cells": [
    {
      "cell_type": "markdown",
      "metadata": {
        "id": "view-in-github",
        "colab_type": "text"
      },
      "source": [
        "<a href=\"https://colab.research.google.com/github/MithunSR/Scipy-Tutorial/blob/main/Scipy_Statistical_Analysis_and_Hypothesis_Testing.ipynb\" target=\"_parent\"><img src=\"https://colab.research.google.com/assets/colab-badge.svg\" alt=\"Open In Colab\"/></a>"
      ]
    },
    {
      "cell_type": "markdown",
      "source": [
        "#1. Introduction\n",
        "The provided code showcases the usage of Scipy, a powerful library for scientific computing, in performing statistical analysis and hypothesis testing. Statistical analysis plays a crucial role in extracting insights and making data-driven decisions in various fields. The code demonstrates several key aspects of statistical analysis, including descriptive statistics, hypothesis testing, and correlation analysis.\n",
        "\n",
        "Descriptive statistics provide a summary of the dataset by capturing important characteristics such as central tendency, variability, and distribution. In the code, descriptive statistics are computed using functions like mean, median, standard deviation, minimum, and maximum values. These statistics offer a concise representation of the dataset and help in understanding its overall properties.\n",
        "\n",
        "Hypothesis testing is a fundamental component of statistical analysis, allowing us to draw inferences and make decisions based on sample data. The code presents two common hypothesis testing techniques: t-test and chi-square test. The t-test examines whether there is a significant difference between the means of two independent samples, while the chi-square test assesses the relationship between categorical variables. The resulting test statistics and p-values provide evidence to accept or reject the null hypothesis.\n",
        "\n",
        "Another essential aspect of statistical analysis is the analysis of variance (ANOVA), which assesses the differences in means among multiple groups. The code demonstrates one-way ANOVA, where three groups are compared to determine if there are significant differences in their means. The F-statistic and p-value generated from ANOVA analysis aid in understanding group variations and potential relationships between the variables.\n",
        "\n",
        "Correlation analysis investigates the association between two variables. The code calculates the Pearson correlation coefficient, which measures the strength and direction of a linear relationship between two variables. Additionally, the associated p-value evaluates the statistical significance of the correlation coefficient. Correlation analysis is useful in understanding the interdependence between variables and identifying potential patterns or trends.\n",
        "\n",
        "Overall, the code demonstrates the utilization of Scipy's statistical functions for performing various statistical analyses, allowing data scientists and researchers to gain insights, validate hypotheses, and make informed decisions based on data. By applying these techniques to real-world datasets, one can extract meaningful information and uncover relationships within the data, ultimately contributing to data-driven decision-making and problem-solving in various domains."
      ],
      "metadata": {
        "id": "YfSjleCtowCT"
      }
    },
    {
      "cell_type": "markdown",
      "source": [
        "#2. Example with code example\n",
        "##2.1 Import Libraries\n",
        "First, we import the necessary libraries, numpy and scipy.stats."
      ],
      "metadata": {
        "id": "ezXywIYRo2zu"
      }
    },
    {
      "cell_type": "code",
      "source": [
        "import numpy as np\n",
        "from scipy import stats"
      ],
      "metadata": {
        "id": "zyWFwKrgqgEN"
      },
      "execution_count": 2,
      "outputs": []
    },
    {
      "cell_type": "markdown",
      "source": [
        "##2.2 generate Random Data\n",
        "We generate random data using np.random.normal(). The loc parameter specifies the mean, scale specifies the standard deviation, and size determines the number of samples."
      ],
      "metadata": {
        "id": "SW2T1Btnqh2A"
      }
    },
    {
      "cell_type": "code",
      "source": [
        "# Generate random data\n",
        "np.random.seed(0)\n",
        "data = np.random.normal(loc=0, scale=1, size=100)"
      ],
      "metadata": {
        "id": "qaDWSAuVrBQB"
      },
      "execution_count": 3,
      "outputs": []
    },
    {
      "cell_type": "markdown",
      "source": [
        "##2.3 Descriptive Statistics:\n",
        "\n",
        "We calculate the mean, median, standard deviation, minimum value, and maximum value using np.mean(), np.median(), np.std(), np.min(), and np.max() functions respectively."
      ],
      "metadata": {
        "id": "vfRdR34BrcVm"
      }
    },
    {
      "cell_type": "code",
      "source": [
        "# Descriptive statistics\n",
        "mean = np.mean(data)\n",
        "median = np.median(data)\n",
        "std = np.std(data)\n",
        "min_val = np.min(data)\n",
        "max_val = np.max(data)"
      ],
      "metadata": {
        "id": "Ew7iFeVmrfvN"
      },
      "execution_count": 4,
      "outputs": []
    },
    {
      "cell_type": "code",
      "source": [
        "print(\"Descriptive Statistics:\")\n",
        "print(\"Mean:\", mean)\n",
        "print(\"Median:\", median)\n",
        "print(\"Standard Deviation:\", std)\n",
        "print(\"Minimum Value:\", min_val)\n",
        "print(\"Maximum Value:\", max_val)"
      ],
      "metadata": {
        "colab": {
          "base_uri": "https://localhost:8080/"
        },
        "id": "mCfr7UT4sSGB",
        "outputId": "89f2b7cf-0abf-4891-a107-ea431e1076b1"
      },
      "execution_count": 5,
      "outputs": [
        {
          "output_type": "stream",
          "name": "stdout",
          "text": [
            "Descriptive Statistics:\n",
            "Mean: 0.059808015534485\n",
            "Median: 0.09409611943799814\n",
            "Standard Deviation: 1.0078822447165796\n",
            "Minimum Value: -2.5529898158340787\n",
            "Maximum Value: 2.2697546239876076\n"
          ]
        }
      ]
    },
    {
      "cell_type": "markdown",
      "source": [
        "##2.4 Hypothesis Testing (t-test):\n",
        "\n",
        "We create two samples, sample1 and sample2, using np.random.normal().\n",
        "We perform an independent t-test using stats.ttest_ind() to compare the means of the two samples.\n",
        "The resulting t-statistic and p-value are stored in t_statistic and p_value variables."
      ],
      "metadata": {
        "id": "_yefv5Q9rjWr"
      }
    },
    {
      "cell_type": "code",
      "source": [
        "# Hypothesis testing (t-test)\n",
        "sample1 = np.random.normal(loc=0, scale=1, size=50)\n",
        "sample2 = np.random.normal(loc=1, scale=1, size=50)\n",
        "t_statistic, p_value = stats.ttest_ind(sample1, sample2)"
      ],
      "metadata": {
        "id": "vv7mRy34rjAB"
      },
      "execution_count": 6,
      "outputs": []
    },
    {
      "cell_type": "code",
      "source": [
        "print(\"\\nHypothesis Testing (t-test):\")\n",
        "print(\"T-Statistic:\", t_statistic)\n",
        "print(\"P-Value:\", p_value)"
      ],
      "metadata": {
        "colab": {
          "base_uri": "https://localhost:8080/"
        },
        "id": "u90gCjqlsVbi",
        "outputId": "70bd0840-48ce-4fe8-a773-6fbe99e909fc"
      },
      "execution_count": 7,
      "outputs": [
        {
          "output_type": "stream",
          "name": "stdout",
          "text": [
            "\n",
            "Hypothesis Testing (t-test):\n",
            "T-Statistic: -3.159380359002485\n",
            "P-Value: 0.002102937568007988\n"
          ]
        }
      ]
    },
    {
      "cell_type": "markdown",
      "source": [
        "##2.5 Hypothesis Testing (chi-square test):\n",
        "\n",
        "We create an observed contingency table, observed, with the observed frequencies of two categorical variables.\n",
        "We perform a chi-square test of independence using stats.chi2_contingency() to test if there is a relationship between the two variables.\n",
        "The resulting chi-square statistic, p-value, degrees of freedom (dof), and expected frequencies are stored in chi2, p, dof, and expected variables."
      ],
      "metadata": {
        "id": "ZOvPNfu_rmmt"
      }
    },
    {
      "cell_type": "code",
      "source": [
        "# Hypothesis testing (chi-square test)\n",
        "observed = np.array([[10, 20, 30], [6, 15, 25]])\n",
        "chi2, p, dof, expected = stats.chi2_contingency(observed)"
      ],
      "metadata": {
        "id": "e68-mFturnFs"
      },
      "execution_count": 8,
      "outputs": []
    },
    {
      "cell_type": "code",
      "source": [
        "print(\"\\nHypothesis Testing (chi-square test):\")\n",
        "print(\"Chi-square:\", chi2)\n",
        "print(\"P-Value:\", p)"
      ],
      "metadata": {
        "colab": {
          "base_uri": "https://localhost:8080/"
        },
        "id": "e41nuGQ0sXob",
        "outputId": "1aaf86a7-dd99-4102-94c0-d5a990ffdc82"
      },
      "execution_count": 9,
      "outputs": [
        {
          "output_type": "stream",
          "name": "stdout",
          "text": [
            "\n",
            "Hypothesis Testing (chi-square test):\n",
            "Chi-square: 0.32545172219085255\n",
            "P-Value: 0.8498241263395327\n"
          ]
        }
      ]
    },
    {
      "cell_type": "markdown",
      "source": [
        "##2.6 Analysis of Variance (ANOVA):\n",
        "\n",
        "We create three groups, group1, group2, and group3, using np.random.normal().\n",
        "We perform a one-way ANOVA using stats.f_oneway() to test if there are significant differences among the means of the groups.\n",
        "The resulting F-statistic and p-value are stored in f_statistic and p_value variables."
      ],
      "metadata": {
        "id": "l4goLYdLr7PB"
      }
    },
    {
      "cell_type": "code",
      "source": [
        "# Analysis of Variance (ANOVA)\n",
        "group1 = np.random.normal(loc=0, scale=1, size=30)\n",
        "group2 = np.random.normal(loc=1, scale=1, size=30)\n",
        "group3 = np.random.normal(loc=2, scale=1, size=30)\n",
        "f_statistic, p_value = stats.f_oneway(group1, group2, group3)"
      ],
      "metadata": {
        "id": "bfjPzO1GsAPy"
      },
      "execution_count": 10,
      "outputs": []
    },
    {
      "cell_type": "code",
      "source": [
        "print(\"\\nAnalysis of Variance (ANOVA):\")\n",
        "print(\"F-Statistic:\", f_statistic)\n",
        "print(\"P-Value:\", p_value)"
      ],
      "metadata": {
        "colab": {
          "base_uri": "https://localhost:8080/"
        },
        "id": "Oxwyge9Xsb9b",
        "outputId": "da02c254-35f2-416b-fd12-e8f14cf10cdd"
      },
      "execution_count": 11,
      "outputs": [
        {
          "output_type": "stream",
          "name": "stdout",
          "text": [
            "\n",
            "Analysis of Variance (ANOVA):\n",
            "F-Statistic: 34.602351122736934\n",
            "P-Value: 8.777968000007025e-12\n"
          ]
        }
      ]
    },
    {
      "cell_type": "markdown",
      "source": [
        "##2.7 Correlation Analysis:\n",
        "\n",
        "We generate two random variables, x and y, using np.random.normal().\n",
        "We calculate the Pearson correlation coefficient and the associated p-value using stats.pearsonr().\n",
        "The correlation coefficient and p-value are stored in correlation_coefficient and p_value variables."
      ],
      "metadata": {
        "id": "zTT4W0_psF2F"
      }
    },
    {
      "cell_type": "code",
      "source": [
        "# Correlation analysis\n",
        "x = np.random.normal(loc=0, scale=1, size=100)\n",
        "y = np.random.normal(loc=0, scale=1, size=100)\n",
        "correlation_coefficient, p_value = stats.pearsonr(x, y)"
      ],
      "metadata": {
        "id": "WmZ-Jh_msMw9"
      },
      "execution_count": 12,
      "outputs": []
    },
    {
      "cell_type": "code",
      "execution_count": 13,
      "metadata": {
        "colab": {
          "base_uri": "https://localhost:8080/"
        },
        "id": "aIoU27RISaJn",
        "outputId": "e06e7746-7efe-4dd3-ff6b-5cf9ec3381b0"
      },
      "outputs": [
        {
          "output_type": "stream",
          "name": "stdout",
          "text": [
            "\n",
            "Correlation Analysis:\n",
            "Correlation Coefficient: -0.015900684268378675\n",
            "P-Value: 0.8752309433436853\n"
          ]
        }
      ],
      "source": [
        "print(\"\\nCorrelation Analysis:\")\n",
        "print(\"Correlation Coefficient:\", correlation_coefficient)\n",
        "print(\"P-Value:\", p_value)\n"
      ]
    }
  ]
}