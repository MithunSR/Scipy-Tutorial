{
  "nbformat": 4,
  "nbformat_minor": 0,
  "metadata": {
    "colab": {
      "provenance": [],
      "toc_visible": true,
      "authorship_tag": "ABX9TyO568uU9dogSTS+j27Jd9lZ",
      "include_colab_link": true
    },
    "kernelspec": {
      "name": "python3",
      "display_name": "Python 3"
    },
    "language_info": {
      "name": "python"
    }
  },
  "cells": [
    {
      "cell_type": "markdown",
      "metadata": {
        "id": "view-in-github",
        "colab_type": "text"
      },
      "source": [
        "<a href=\"https://colab.research.google.com/github/MithunSR/Scipy-Tutorial/blob/main/Scipy_Numerical_Computing_and_Linear_Algebra.ipynb\" target=\"_parent\"><img src=\"https://colab.research.google.com/assets/colab-badge.svg\" alt=\"Open In Colab\"/></a>"
      ]
    },
    {
      "cell_type": "markdown",
      "source": [
        "#1.Introduction\n",
        "Scipy is a powerful library in Python that provides functionalities for numerical computing and linear algebra. It offers a wide range of tools and functions for performing various tasks related to scientific computing, including matrix operations, linear equations solving, eigenvalue and eigenvector computations, matrix decompositions, numerical integration, differentiation, and interpolation. These capabilities make Scipy an essential tool for researchers, engineers, and data scientists working on data analysis, machine learning, and mathematical modeling.\n",
        "\n",
        "In this code example, we showcase the usage of Scipy for numerical computing tasks using a real-world dataset. We start by loading the California housing dataset, a popular dataset used for regression analysis. We then demonstrate how Scipy can be utilized to perform matrix operations, solve linear equations, find eigenvalues and eigenvectors, perform matrix decompositions, and utilize numerical integration, differentiation, and interpolation.\n",
        "\n",
        "Throughout the code, we provide step-by-step explanations of each section and highlight the specific functions and methods used for different computations. By going through this example, you will gain a solid understanding of how to leverage Scipy's functionalities for various numerical computing tasks and apply them to real-world datasets.\n",
        "\n",
        "It's important to note that Scipy is a part of the larger scientific computing ecosystem in Python, which includes other libraries like NumPy, Pandas, and Matplotlib. These libraries complement each other and provide a comprehensive toolkit for scientific computing and data analysis."
      ],
      "metadata": {
        "id": "DDRLPrzGQ6qq"
      }
    },
    {
      "cell_type": "markdown",
      "source": [
        "#2.Example with code Example\n",
        "##2.1 Import libraries\n",
        "numpy (imported as np) for numerical computing.\n",
        "pandas (imported as pd) for data manipulation and analysis.\n",
        "scipy.linalg for linear algebra operations.\n",
        "scipy.integrate.quad for numerical integration.\n",
        "scipy.misc.derivative for numerical differentiation.\n",
        "scipy.interpolate.interp1d for interpolation.\n"
      ],
      "metadata": {
        "id": "EhCuNIjQK98T"
      }
    },
    {
      "cell_type": "code",
      "execution_count": 38,
      "metadata": {
        "id": "gcyBlvpCEKST"
      },
      "outputs": [],
      "source": [
        "import numpy as np\n",
        "import pandas as pd\n",
        "from scipy.linalg import lu, qr, svd\n",
        "from sklearn.datasets import fetch_california_housing\n",
        "from scipy.integrate import quad\n",
        "from scipy.misc import derivative\n",
        "from scipy.interpolate import interp1d"
      ]
    },
    {
      "cell_type": "markdown",
      "source": [
        "##2.2 Load Dataset\n",
        "The code uses the fetch_california_housing function from sklearn.datasets to load the California housing dataset.\n",
        "The dataset is stored in the housing variable, which contains both the data and the target (housing prices).\n",
        "The data is then converted into a pandas DataFrame (housing_df), and the column names are set using housing.feature_names.\n",
        "The target variable (housing prices) is added as a new column named \"Price\" in the DataFrame.\n"
      ],
      "metadata": {
        "id": "odGrEe5pNO2-"
      }
    },
    {
      "cell_type": "code",
      "source": [
        "# Load the California housing dataset\n",
        "housing = fetch_california_housing()\n",
        "housing_df = pd.DataFrame(housing.data, columns=housing.feature_names)\n",
        "housing_df['Price'] = housing.target"
      ],
      "metadata": {
        "id": "uN_o1GW5NXOV"
      },
      "execution_count": 39,
      "outputs": []
    },
    {
      "cell_type": "markdown",
      "source": [
        "##2.3 Perform Matrix operation\n",
        "The code selects the relevant columns ('AveRooms', 'AveBedrms', 'Population') from the housing DataFrame and stores them in the X variable.\n",
        "The transpose of X is computed using X.T and stored in X_transpose.\n",
        "The matrix product of X_transpose and X is computed using np.dot(X_transpose, X) and stored in matrix_product.\n",
        "The matrix inverse of matrix_product is computed using np.linalg.inv(matrix_product) and stored in matrix_inverse.\n",
        "The determinant of matrix_product is computed using np.linalg.det(matrix_product) and stored in matrix_determinant."
      ],
      "metadata": {
        "id": "-0U18hbvNdu5"
      }
    },
    {
      "cell_type": "code",
      "source": [
        "# Perform matrix operations\n",
        "X = housing_df[['AveRooms', 'AveBedrms', 'Population']].values\n",
        "X_transpose = X.T\n",
        "matrix_product = np.dot(X_transpose, X)\n",
        "matrix_inverse = np.linalg.inv(matrix_product)\n",
        "matrix_determinant = np.linalg.det(matrix_product)"
      ],
      "metadata": {
        "id": "3KlrqE_GNpXU"
      },
      "execution_count": 40,
      "outputs": []
    },
    {
      "cell_type": "code",
      "source": [
        "print(\"Matrix Operations:\")\n",
        "print(\"Matrix Product:\")\n",
        "print(matrix_product)\n",
        "print(\"Matrix Inverse:\")\n",
        "print(matrix_inverse)\n",
        "print(\"Matrix Determinant:\")\n",
        "print(matrix_determinant)"
      ],
      "metadata": {
        "colab": {
          "base_uri": "https://localhost:8080/"
        },
        "id": "uWoyRUAGPnF7",
        "outputId": "17b8cd34-d215-40bb-908c-3c2f53663aed"
      },
      "execution_count": 41,
      "outputs": [
        {
          "output_type": "stream",
          "name": "stdout",
          "text": [
            "Matrix Operations:\n",
            "Matrix Product:\n",
            "[[7.34686462e+05 1.43399883e+05 1.55555196e+08]\n",
            " [1.43399883e+05 2.94589973e+04 3.15329544e+07]\n",
            " [1.55555196e+08 3.15329544e+07 6.84090565e+10]]\n",
            "Matrix Inverse:\n",
            "[[ 2.73784097e-05 -1.31530279e-04 -1.62720548e-09]\n",
            " [-1.31530279e-04  6.98898877e-04 -2.30689921e-08]\n",
            " [-1.62720548e-09 -2.30689921e-08  2.89516308e-11]]\n",
            "Matrix Determinant:\n",
            "3.728978461474487e+19\n"
          ]
        }
      ]
    },
    {
      "cell_type": "markdown",
      "source": [
        "##2.4 Solving Linear Equations\n",
        "The code selects the target variable (housing prices) from the housing DataFrame and stores it in the y variable.\n",
        "\n",
        "The coefficients of the linear equations are computed by solving the equation matrix_product * coefficients = X_transpose * y using np.linalg.solve(matrix_product, np.dot(X_transpose, y)) and stored in the coefficients variable."
      ],
      "metadata": {
        "id": "MngdIlNGNt6I"
      }
    },
    {
      "cell_type": "code",
      "source": [
        "# Solve linear equations\n",
        "y = housing_df['Price'].values\n",
        "coefficients = np.linalg.solve(matrix_product, np.dot(X_transpose, y))"
      ],
      "metadata": {
        "id": "zbpd-zO2N7V3"
      },
      "execution_count": 42,
      "outputs": []
    },
    {
      "cell_type": "code",
      "source": [
        "print(\"\\nLinear Equations:\")\n",
        "print(\"Coefficients:\")\n",
        "print(coefficients)"
      ],
      "metadata": {
        "colab": {
          "base_uri": "https://localhost:8080/"
        },
        "id": "1nCVZe0NPxOP",
        "outputId": "98b77655-503c-44c3-c388-6448095875fd"
      },
      "execution_count": 43,
      "outputs": [
        {
          "output_type": "stream",
          "name": "stdout",
          "text": [
            "\n",
            "Linear Equations:\n",
            "Coefficients:\n",
            "[ 4.04008343e-01 -6.98065918e-01  2.83039097e-04]\n"
          ]
        }
      ]
    },
    {
      "cell_type": "markdown",
      "source": [
        "##2.5 Finding eigenvalues and eigenvectors\n",
        "The eigenvalues and eigenvectors of matrix_product are computed using np.linalg.eig(matrix_product).\n",
        "The eigenvalues are stored in the eigenvalues variable, and the eigenvectors are stored in the eigenvectors variable."
      ],
      "metadata": {
        "id": "7orhipvIN_pF"
      }
    },
    {
      "cell_type": "code",
      "source": [
        "# Find eigenvalues and eigenvectors\n",
        "eigenvalues, eigenvectors = np.linalg.eig(matrix_product)"
      ],
      "metadata": {
        "id": "IQUlg-khOIh-"
      },
      "execution_count": 44,
      "outputs": []
    },
    {
      "cell_type": "code",
      "source": [
        "print(\"\\nEigenvalues and Eigenvectors:\")\n",
        "print(\"Eigenvalues:\")\n",
        "print(eigenvalues)\n",
        "print(\"Eigenvectors:\")\n",
        "print(eigenvectors)"
      ],
      "metadata": {
        "colab": {
          "base_uri": "https://localhost:8080/"
        },
        "id": "O6cAf2auP4Im",
        "outputId": "80569fdd-d107-4c9d-c090-f6d4ea288420"
      },
      "execution_count": 45,
      "outputs": [
        {
          "output_type": "stream",
          "name": "stdout",
          "text": [
            "\n",
            "Eigenvalues and Eigenvectors:\n",
            "Eigenvalues:\n",
            "[6.84094247e+10 3.94510003e+05 1.38170687e+03]\n",
            "Eigenvectors:\n",
            "[[ 2.27390473e-03  9.82622799e-01  1.85599742e-01]\n",
            " [ 4.60948317e-04  1.85599172e-01 -9.82625430e-01]\n",
            " [ 9.99997308e-01 -2.31994850e-03  3.09034911e-05]]\n"
          ]
        }
      ]
    },
    {
      "cell_type": "markdown",
      "source": [
        "##2.6 Performing LU decomposition\n",
        "The LU decomposition of matrix_product is performed using scipy.linalg.lu(matrix_product).\n",
        "The permutation matrix P, lower triangular matrix L, and upper triangular matrix U are obtained and stored in P, L, and U variables, respectively."
      ],
      "metadata": {
        "id": "Vu8am1acOMYi"
      }
    },
    {
      "cell_type": "code",
      "source": [
        "# Perform LU decomposition\n",
        "P, L, U = lu(matrix_product)"
      ],
      "metadata": {
        "id": "4DCHnNDCOL_C"
      },
      "execution_count": 46,
      "outputs": []
    },
    {
      "cell_type": "code",
      "source": [
        "print(\"\\nLU Decomposition:\")\n",
        "print(\"P:\")\n",
        "print(P)\n",
        "print(\"L:\")\n",
        "print(L)\n",
        "print(\"U:\")\n",
        "print(U)"
      ],
      "metadata": {
        "colab": {
          "base_uri": "https://localhost:8080/"
        },
        "id": "1EM16ieUP9sy",
        "outputId": "0eaec06c-776a-475a-bc61-34b0bfc97463"
      },
      "execution_count": 47,
      "outputs": [
        {
          "output_type": "stream",
          "name": "stdout",
          "text": [
            "\n",
            "LU Decomposition:\n",
            "P:\n",
            "[[0. 1. 0.]\n",
            " [0. 0. 1.]\n",
            " [1. 0. 0.]]\n",
            "L:\n",
            "[[ 1.00000000e+00  0.00000000e+00  0.00000000e+00]\n",
            " [ 4.72299531e-03  1.00000000e+00  0.00000000e+00]\n",
            " [ 9.21858520e-04 -7.05364794e-02  1.00000000e+00]]\n",
            "U:\n",
            "[[ 1.55555196e+08  3.15329544e+07  6.84090565e+10]\n",
            " [ 0.00000000e+00 -5.53011256e+03 -1.67540456e+08]\n",
            " [ 0.00000000e+00  0.00000000e+00 -4.33482311e+07]]\n"
          ]
        }
      ]
    },
    {
      "cell_type": "markdown",
      "source": [
        "##2.7 Performing QR decomposition\n",
        "The QR decomposition of matrix_product is performed using scipy.linalg.qr(matrix_product).\n",
        "The orthogonal matrix Q and upper triangular matrix R are obtained and stored in Q and R variables, respectively."
      ],
      "metadata": {
        "id": "V2tWJ7xoOXaH"
      }
    },
    {
      "cell_type": "code",
      "source": [
        "# Perform QR decomposition\n",
        "Q, R = qr(matrix_product)"
      ],
      "metadata": {
        "id": "l4WW_ttOOhVs"
      },
      "execution_count": 48,
      "outputs": []
    },
    {
      "cell_type": "code",
      "source": [
        "print(\"\\nQR Decomposition:\")\n",
        "print(\"Q:\")\n",
        "print(Q)\n",
        "print(\"R:\")\n",
        "print(R)"
      ],
      "metadata": {
        "colab": {
          "base_uri": "https://localhost:8080/"
        },
        "id": "ra0e-tqMQBgQ",
        "outputId": "0eb19d4e-3aa8-45ad-dcfc-b43352ac6c86"
      },
      "execution_count": 49,
      "outputs": [
        {
          "output_type": "stream",
          "name": "stdout",
          "text": [
            "\n",
            "QR Decomposition:\n",
            "Q:\n",
            "[[-4.72294063e-03  9.97510370e-01 -7.03616030e-02]\n",
            " [-9.21847847e-04 -7.03667009e-02 -9.97520765e-01]\n",
            " [-9.99988422e-01 -4.64636866e-03  1.25189054e-03]]\n",
            "R:\n",
            "[[-1.55556997e+08 -3.15332937e+07 -6.84090282e+10]\n",
            " [ 0.00000000e+00 -5.54379290e+03 -1.64904644e+08]\n",
            " [ 0.00000000e+00  0.00000000e+00  4.32407607e+07]]\n"
          ]
        }
      ]
    },
    {
      "cell_type": "markdown",
      "source": [
        "##2.8 Performing singular value decomposition (SVD)\n",
        "The singular value decomposition of matrix_product is performed using scipy.linalg.svd(matrix_product).\n",
        "The matrices U, S, and V are obtained and stored in U, S, and V variables, respectively."
      ],
      "metadata": {
        "id": "RVziZtCtOsc2"
      }
    },
    {
      "cell_type": "code",
      "source": [
        "# Perform singular value decomposition (SVD)\n",
        "U, S, V = svd(matrix_product)"
      ],
      "metadata": {
        "id": "3Fq2apXGOv6n"
      },
      "execution_count": 50,
      "outputs": []
    },
    {
      "cell_type": "code",
      "source": [
        "print(\"\\nSingular Value Decomposition:\")\n",
        "print(\"U:\")\n",
        "print(U)\n",
        "print(\"S:\")\n",
        "print(S)\n",
        "print(\"V:\")\n",
        "print(V)"
      ],
      "metadata": {
        "colab": {
          "base_uri": "https://localhost:8080/"
        },
        "id": "OYe2xuCjQC87",
        "outputId": "f77ad729-4f6f-4513-cda2-72a3137b6766"
      },
      "execution_count": 51,
      "outputs": [
        {
          "output_type": "stream",
          "name": "stdout",
          "text": [
            "\n",
            "Singular Value Decomposition:\n",
            "U:\n",
            "[[-2.27390473e-03 -9.82622799e-01 -1.85599742e-01]\n",
            " [-4.60948317e-04 -1.85599172e-01  9.82625430e-01]\n",
            " [-9.99997308e-01  2.31994850e-03 -3.09034911e-05]]\n",
            "S:\n",
            "[6.84094247e+10 3.94510003e+05 1.38170687e+03]\n",
            "V:\n",
            "[[-2.27390473e-03 -4.60948317e-04 -9.99997308e-01]\n",
            " [-9.82622799e-01 -1.85599172e-01  2.31994850e-03]\n",
            " [-1.85599742e-01  9.82625430e-01 -3.09034911e-05]]\n"
          ]
        }
      ]
    },
    {
      "cell_type": "markdown",
      "source": [
        "##2.9 Numerical integration\n",
        "The code defines a function f(x) to be integrated (x^2 in this case).\n",
        "The numerical integration of f over the interval [0, 5] is performed using scipy.integrate.quad(f, 0, 5).\n",
        "The computed area under the curve and the estimated error are stored in area and error variables, respectively."
      ],
      "metadata": {
        "id": "w0dh9CkHOzkb"
      }
    },
    {
      "cell_type": "code",
      "source": [
        "# Define a function for integration\n",
        "def f(x):\n",
        "    return x**2\n",
        "\n",
        "# Perform numerical integration\n",
        "area, error = quad(f, 0, 5)\n"
      ],
      "metadata": {
        "id": "QeqZRnYQO9ck"
      },
      "execution_count": 52,
      "outputs": []
    },
    {
      "cell_type": "code",
      "source": [
        "print(\"\\nNumerical Integration:\")\n",
        "print(\"Area under the Curve:\")\n",
        "print(area)"
      ],
      "metadata": {
        "colab": {
          "base_uri": "https://localhost:8080/"
        },
        "id": "3wpw-x4IQXZi",
        "outputId": "c33a4813-b38d-45f3-e46c-6dcebbe48940"
      },
      "execution_count": 53,
      "outputs": [
        {
          "output_type": "stream",
          "name": "stdout",
          "text": [
            "\n",
            "Numerical Integration:\n",
            "Area under the Curve:\n",
            "41.66666666666666\n"
          ]
        }
      ]
    },
    {
      "cell_type": "markdown",
      "source": [
        "##2.10 Numerical differentiation:\n",
        "\n",
        "The code defines a function g(x) to be differentiated (x^3 in this case).\n",
        "The numerical differentiation of g at x = 2.0 is performed using scipy.misc.derivative(g, 2.0).\n",
        "The computed derivative result is stored in the derivative_result variable."
      ],
      "metadata": {
        "id": "29tbBbjRPVDa"
      }
    },
    {
      "cell_type": "code",
      "source": [
        "# Define a function for differentiation\n",
        "def g(x):\n",
        "    return x**3\n",
        "\n",
        "# Perform numerical differentiation\n",
        "derivative_result = derivative(g, 2.0)"
      ],
      "metadata": {
        "colab": {
          "base_uri": "https://localhost:8080/"
        },
        "id": "uEAOpo_rPbsY",
        "outputId": "b087cee4-7fb2-4b8b-ac39-de4590fff5f2"
      },
      "execution_count": 54,
      "outputs": [
        {
          "output_type": "stream",
          "name": "stderr",
          "text": [
            "<ipython-input-54-3d718bfa6e5e>:6: DeprecationWarning: scipy.misc.derivative is deprecated in SciPy v1.10.0; and will be completely removed in SciPy v1.12.0. You may consider using findiff: https://github.com/maroba/findiff or numdifftools: https://github.com/pbrod/numdifftools\n",
            "  derivative_result = derivative(g, 2.0)\n"
          ]
        }
      ]
    },
    {
      "cell_type": "code",
      "source": [
        "print(\"\\nNumerical Differentiation:\")\n",
        "print(\"Derivative Result:\")\n",
        "print(derivative_result)"
      ],
      "metadata": {
        "colab": {
          "base_uri": "https://localhost:8080/"
        },
        "id": "W1X2opwJQccp",
        "outputId": "9b93123e-c021-4d09-e7af-fc955af622e7"
      },
      "execution_count": 55,
      "outputs": [
        {
          "output_type": "stream",
          "name": "stdout",
          "text": [
            "\n",
            "Numerical Differentiation:\n",
            "Derivative Result:\n",
            "13.0\n"
          ]
        }
      ]
    },
    {
      "cell_type": "markdown",
      "source": [
        "##2.11 Interpolation:\n",
        "\n",
        "The code creates sample data (x and y) for interpolation.\n",
        "The interp1d function from scipy.interpolate is used to perform cubic interpolation on the data.\n",
        "Interpolated values are generated for x_interpolated using the interpolated function f.\n",
        "The interpolated values are stored in the y_interpolated variable."
      ],
      "metadata": {
        "id": "-dAeyploQhin"
      }
    },
    {
      "cell_type": "code",
      "source": [
        "\n",
        "\n",
        "\n",
        "\n",
        "# Create sample data for interpolation\n",
        "x = np.linspace(0, 10, num=11, endpoint=True)\n",
        "y = np.cos(-x**2/9.0)\n",
        "\n",
        "# Perform interpolation\n",
        "f = interp1d(x, y, kind='cubic')\n",
        "\n",
        "# Generate interpolated values\n",
        "x_interpolated = np.linspace(0, 10, num=41, endpoint=True)\n",
        "y_interpolated = f(x_interpolated)\n",
        "\n",
        "\n",
        "print(\"\\nInterpolation:\")\n",
        "print(\"Interpolated Values:\")\n",
        "print(list(zip(x_interpolated, y_interpolated)))\n"
      ],
      "metadata": {
        "colab": {
          "base_uri": "https://localhost:8080/"
        },
        "id": "BaD96xsaM55Y",
        "outputId": "de419086-1fa7-4a97-b0f9-0b792b49fa05"
      },
      "execution_count": 56,
      "outputs": [
        {
          "output_type": "stream",
          "name": "stdout",
          "text": [
            "\n",
            "Interpolation:\n",
            "Interpolated Values:\n",
            "[(0.0, 1.0), (0.25, 0.9964109904444228), (0.5, 0.996091479261226), (0.75, 0.9961846055821391), (1.0, 0.993833508538892), (1.25, 0.9861813272632147), (1.5, 0.9703712008868367), (1.75, 0.9435462685414884), (2.0, 0.9028496693588987), (2.25, 0.84536349432982), (2.5, 0.7679256418810922), (2.75, 0.6673129622985782), (3.0, 0.5403023058681398), (3.25, 0.38508734103575576), (3.5, 0.2055290088878708), (3.75, 0.006905068671045914), (4.0, -0.2055067203681578), (4.25, -0.4240390513971404), (4.5, -0.631466427239146), (4.75, -0.8081738031313802), (5.0, -0.9345461343110483), (5.25, -0.9926755557687218), (5.5, -0.9714829215084378), (5.75, -0.8615962652876001), (6.0, -0.653643620863612), (6.25, -0.34884468229586846), (6.5, 0.00921421514827031), (6.75, 0.3663550758994522), (7.0, 0.6683999043883257), (7.25, 0.8679573603148192), (7.5, 0.9447827244559819), (7.75, 0.8854179328581436), (8.0, 0.6764049215676338), (8.25, 0.32013188190749836), (8.5, -0.11762797369235069), (8.75, -0.5552551775252854), (9.0, -0.9111302618846769), (9.25, -1.1036337590638976), (9.5, -1.0511462013563186), (9.75, -0.6720481210553122), (10.0, 0.11527994954575044)]\n"
          ]
        }
      ]
    }
  ]
}