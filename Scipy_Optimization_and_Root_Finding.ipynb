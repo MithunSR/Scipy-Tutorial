{
  "nbformat": 4,
  "nbformat_minor": 0,
  "metadata": {
    "colab": {
      "provenance": [],
      "authorship_tag": "ABX9TyP6xkBqTj2qSgT0y6ekGYmH",
      "include_colab_link": true
    },
    "kernelspec": {
      "name": "python3",
      "display_name": "Python 3"
    },
    "language_info": {
      "name": "python"
    }
  },
  "cells": [
    {
      "cell_type": "markdown",
      "metadata": {
        "id": "view-in-github",
        "colab_type": "text"
      },
      "source": [
        "<a href=\"https://colab.research.google.com/github/MithunSR/Scipy-Tutorial/blob/main/Scipy_Optimization_and_Root_Finding.ipynb\" target=\"_parent\"><img src=\"https://colab.research.google.com/assets/colab-badge.svg\" alt=\"Open In Colab\"/></a>"
      ]
    },
    {
      "cell_type": "markdown",
      "source": [
        "#1. Introduction\n",
        "The code showcases the usage of Scipy for optimization and root finding tasks. Scipy is a powerful library in Python that provides various functions and algorithms for scientific computing, including optimization techniques and root finding methods.\n",
        "\n",
        "**Optimization:**\n",
        "\n",
        "In the optimization section, we demonstrate how to use Scipy to find the minimum of a given objective function. The objective function is defined as a quadratic function, and the minimize() function from scipy.optimize is used to find its minimum. The result includes the minimum value and the corresponding minimizer.\n",
        "\n",
        "**Curve Fitting:**\n",
        "\n",
        "The curve fitting section demonstrates how to use Scipy for fitting a curve to given data points. We define a model function (exponential function) and generate some data points with added noise. The curve_fit() function from scipy.optimize is employed to fit the curve to the data, providing optimized parameters as the result.\n",
        "\n",
        "**Root Finding:**\n",
        "\n",
        "The root finding section shows how to find the root of an equation using Scipy. An equation is defined (cubic equation), and the root() function from scipy.optimize is utilized to find its root. The result includes the root value.\n",
        "\n",
        "**Linear Programming:**\n",
        "\n",
        "In the linear programming section, Scipy's capabilities for linear programming are demonstrated. The objective function and inequality constraints are defined for a linear programming problem. The linprog() function from scipy.optimize is employed to solve the linear programming problem and find the optimal solution. The result includes the minimizer.\n",
        "\n",
        "The code provides a concise and illustrative example of how Scipy can be used for optimization tasks, curve fitting, root finding, and linear programming. Scipy's optimization algorithms, constraints handling, and ability to work with non-linear functions make it a powerful tool for a wide range of scientific and engineering applications."
      ],
      "metadata": {
        "id": "UDx4sCIE5YGr"
      }
    },
    {
      "cell_type": "markdown",
      "source": [
        "#2 Example with code\n",
        "##2.1 Import Libraries\n"
      ],
      "metadata": {
        "id": "obYXdhpx5qkb"
      }
    },
    {
      "cell_type": "code",
      "source": [
        "import numpy as np\n",
        "from scipy.optimize import minimize, curve_fit, root, linprog"
      ],
      "metadata": {
        "id": "BArWWon85p23"
      },
      "execution_count": 2,
      "outputs": []
    },
    {
      "cell_type": "markdown",
      "source": [
        "##2.2 Optimization:\n",
        "\n",
        "We start by defining an objective function objective(x) that we want to minimize. In this example, the objective function is a simple quadratic function.\n",
        "\n",
        "The minimize() function from scipy.optimize is used to find the minimum of the objective function. We pass the objective function as the first argument and set the initial guess (x0) to 0. The result object contains the minimum value (fun) and the minimizer (x)."
      ],
      "metadata": {
        "id": "Fwnjas9H6JJ3"
      }
    },
    {
      "cell_type": "code",
      "source": [
        "# Define an objective function for optimization\n",
        "def objective(x):\n",
        "    return x**2 + 2*x + 1\n",
        "\n",
        "# Minimize the objective function\n",
        "result = minimize(objective, x0=0)\n",
        "min_value = result.fun\n",
        "minimizer = result.x"
      ],
      "metadata": {
        "id": "jXD7TWvE6MIT"
      },
      "execution_count": 3,
      "outputs": []
    },
    {
      "cell_type": "markdown",
      "source": [
        "##2.3 Curve Fitting:\n",
        "We define a function exponential_func(x, a, b) that represents the model we want to fit to the data. In this case, it's an exponential function with parameters a and b.\n",
        "\n",
        "We generate some data points (xdata and ydata) that follow the exponential function with added noise.\n",
        "\n",
        "The curve_fit() function from scipy.optimize is used to fit the curve to the data. We pass the exponential_func as the first argument, along with the data points xdata and ydata. The result contains the optimized parameters (params)."
      ],
      "metadata": {
        "id": "bg7MVpWG53l3"
      }
    },
    {
      "cell_type": "code",
      "source": [
        "# Define a function for curve fitting\n",
        "def exponential_func(x, a, b):\n",
        "    return a * np.exp(-b * x)\n",
        "\n",
        "# Generate some data points\n",
        "xdata = np.linspace(0, 4, 50)\n",
        "ydata = exponential_func(xdata, 2, 0.5) + np.random.normal(0, 0.2, len(xdata))\n",
        "\n",
        "# Fit the curve to the data\n",
        "params, _ = curve_fit(exponential_func, xdata, ydata)"
      ],
      "metadata": {
        "id": "LsqJ5S0O6AW9"
      },
      "execution_count": 4,
      "outputs": []
    },
    {
      "cell_type": "markdown",
      "source": [
        "##2.4 Root Finding:\n",
        "\n",
        "We define an equation equation(x) for which we want to find the root. In this example, it's a simple cubic equation.\n",
        "\n",
        "The root() function from scipy.optimize is used to find the root of the equation. We pass the equation function as the first argument and set the initial guess (x0) to 1. The result object contains the root value (x)."
      ],
      "metadata": {
        "id": "Ynm7iP6e6oZN"
      }
    },
    {
      "cell_type": "code",
      "source": [
        "# Define a function for root finding\n",
        "def equation(x):\n",
        "    return x**3 - x - 1\n",
        "\n",
        "# Find the root of the equation\n",
        "root_result = root(equation, x0=1)\n",
        "root_value = root_result.x[0]"
      ],
      "metadata": {
        "id": "AutekFd06u15"
      },
      "execution_count": 5,
      "outputs": []
    },
    {
      "cell_type": "markdown",
      "source": [
        "##2.5 Linear Programming:\n",
        "\n",
        "We define the objective function c and the inequality constraints A and b for the linear programming problem. In this example, the objective function is -x + 4y, and the constraints are -3x + y <= 6 and x + 2y <= 4.\n",
        "\n",
        "The linprog() function from scipy.optimize is used to solve the linear programming problem. We pass the objective function (c) and the inequality constraints (A and b) as arguments. The result object contains the minimizer (x).\n",
        "\n",
        "We print the results for each optimization and root finding task."
      ],
      "metadata": {
        "id": "7DUPG0_s60bK"
      }
    },
    {
      "cell_type": "code",
      "source": [
        "# Define the objective function for linear programming\n",
        "c = [-1, 4]  # Coefficients of the linear objective function\n",
        "A = [[-3, 1], [1, 2]]  # Coefficients of the inequality constraints\n",
        "b = [6, 4]  # Right-hand side of the inequality constraints\n",
        "\n",
        "# Solve the linear programming problem\n",
        "lp_result = linprog(c, A_ub=A, b_ub=b)\n",
        "lp_minimizer = lp_result.x"
      ],
      "metadata": {
        "id": "mgaEgRhE66dg"
      },
      "execution_count": 6,
      "outputs": []
    },
    {
      "cell_type": "markdown",
      "source": [
        "#Print Values"
      ],
      "metadata": {
        "id": "8hUsI0SD6-Lv"
      }
    },
    {
      "cell_type": "code",
      "execution_count": 7,
      "metadata": {
        "colab": {
          "base_uri": "https://localhost:8080/"
        },
        "id": "IJvQXJ4E4AJu",
        "outputId": "a59820c6-d825-4a03-b165-a7f5925faee7"
      },
      "outputs": [
        {
          "output_type": "stream",
          "name": "stdout",
          "text": [
            "Optimization:\n",
            "Minimum value: 0.0\n",
            "Minimizer: [-1.00000001]\n",
            "\n",
            "Curve Fitting:\n",
            "Fitted parameters: [2.03614967 0.50660965]\n",
            "\n",
            "Root Finding:\n",
            "Root value: 1.3247179572447532\n",
            "\n",
            "Linear Programming:\n",
            "Minimizer: [4. 0.]\n"
          ]
        }
      ],
      "source": [
        "# Print the results\n",
        "print(\"Optimization:\")\n",
        "print(\"Minimum value:\", min_value)\n",
        "print(\"Minimizer:\", minimizer)\n",
        "\n",
        "print(\"\\nCurve Fitting:\")\n",
        "print(\"Fitted parameters:\", params)\n",
        "\n",
        "print(\"\\nRoot Finding:\")\n",
        "print(\"Root value:\", root_value)\n",
        "\n",
        "print(\"\\nLinear Programming:\")\n",
        "print(\"Minimizer:\", lp_minimizer)\n"
      ]
    }
  ]
}